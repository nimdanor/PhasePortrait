{
 "cells": [
  {
   "cell_type": "code",
   "execution_count": 1,
   "metadata": {},
   "outputs": [],
   "source": [
    "from PhasePortraitWidget import PhasePortraitGUI"
   ]
  },
  {
   "cell_type": "code",
   "execution_count": 2,
   "metadata": {},
   "outputs": [],
   "source": [
    "def f(z):\n",
    "    return z ** 3"
   ]
  },
  {
   "cell_type": "code",
   "execution_count": 3,
   "metadata": {},
   "outputs": [
    {
     "data": {
      "application/vnd.jupyter.widget-view+json": {
       "model_id": "b1628a5772ed40de9ed3c1938bc490e2",
       "version_major": 2,
       "version_minor": 0
      },
      "text/plain": [
       "HBox(children=(VBox(children=(RiemannSphereWidget(children=(HTML(value='<b>Left lower corner:</b>'), HBox(chil…"
      ]
     },
     "metadata": {},
     "output_type": "display_data"
    }
   ],
   "source": [
    "PP = PhasePortraitGUI(f, \"cube\")"
   ]
  },
  {
   "cell_type": "code",
   "execution_count": null,
   "metadata": {},
   "outputs": [],
   "source": []
  }
 ],
 "metadata": {
  "kernelspec": {
   "display_name": "Python 3",
   "language": "python",
   "name": "python3"
  },
  "language_info": {
   "codemirror_mode": {
    "name": "ipython",
    "version": 3
   },
   "file_extension": ".py",
   "mimetype": "text/x-python",
   "name": "python",
   "nbconvert_exporter": "python",
   "pygments_lexer": "ipython3",
   "version": "3.7.4"
  },
  "widgets": {
   "application/vnd.jupyter.widget-state+json": {
    "state": {
     "0324379239804b93949a3b94898a5f07": {
      "model_module": "@jupyter-widgets/controls",
      "model_module_version": "1.5.0",
      "model_name": "ButtonStyleModel",
      "state": {}
     },
     "061e124821004568bef54eb872aaf676": {
      "model_module": "@jupyter-widgets/controls",
      "model_module_version": "1.5.0",
      "model_name": "VBoxModel",
      "state": {
       "children": [
        "IPY_MODEL_344880827b92417099fd282377fdf0a4",
        "IPY_MODEL_d1f822c70c6c4625b9c4541c62678c0d"
       ],
       "layout": "IPY_MODEL_7dbdfe4c58e2488bb4c046039b92551c"
      }
     },
     "07c9a1ce06924ee3b3da7628d650ea98": {
      "model_module": "@jupyter-widgets/base",
      "model_module_version": "1.2.0",
      "model_name": "LayoutModel",
      "state": {
       "padding": "15px 0px 30px 10px"
      }
     },
     "080515abf738425491cc330b77fa141c": {
      "model_module": "@jupyter-widgets/controls",
      "model_module_version": "1.5.0",
      "model_name": "VBoxModel",
      "state": {
       "children": [
        "IPY_MODEL_e3681ab87ff24ea8b83df5288eed56e9",
        "IPY_MODEL_7d64b2fa8786469f89544d42cff2f3b0"
       ],
       "layout": "IPY_MODEL_52c1524f35a04283b38544d44f2ce3d4"
      }
     },
     "12d0adabb6db4450b5af4682ae8ddc8f": {
      "model_module": "@jupyter-widgets/controls",
      "model_module_version": "1.5.0",
      "model_name": "ButtonModel",
      "state": {
       "description": "Show the phase portrait",
       "layout": "IPY_MODEL_c4ed5f773d3646049c011b941c903b35",
       "style": "IPY_MODEL_c3463428bb6042ebbae5cf91a0ae58d6"
      }
     },
     "172bd97104b04775878ca593dc0e1517": {
      "model_module": "@jupyter-widgets/controls",
      "model_module_version": "1.5.0",
      "model_name": "SliderStyleModel",
      "state": {
       "description_width": "initial"
      }
     },
     "19167230ba1e4211b33d1aa2be72c3fb": {
      "model_module": "@jupyter-widgets/base",
      "model_module_version": "1.2.0",
      "model_name": "LayoutModel",
      "state": {
       "padding": "0px 0px 0px 5px",
       "width": "150px"
      }
     },
     "1cbc32dfcc5047a79ea297c6039fd0c1": {
      "model_module": "@jupyter-widgets/base",
      "model_module_version": "1.2.0",
      "model_name": "LayoutModel",
      "state": {
       "padding": "15px 0px 30px 10px"
      }
     },
     "2321045ea9dd45d4a9c8ee63896f0738": {
      "model_module": "@jupyter-widgets/base",
      "model_module_version": "1.2.0",
      "model_name": "LayoutModel",
      "state": {}
     },
     "2ba7187cf5a843cfafe372af1644ee3f": {
      "model_module": "@jupyter-widgets/base",
      "model_module_version": "1.2.0",
      "model_name": "LayoutModel",
      "state": {
       "border": "solid 1px black",
       "height": "100%",
       "margin": "0px 0px 0px 10px",
       "padding": "0px 0px 0px 5px",
       "width": "63%"
      }
     },
     "2d19ea63578b413f9b7639e09ea0752b": {
      "model_module": "@jupyter-widgets/base",
      "model_module_version": "1.2.0",
      "model_name": "LayoutModel",
      "state": {
       "margin": "40px 0px 0px 0px",
       "padding": "0px 0px 0px 0px"
      }
     },
     "2df36e7fe4a54f3fa8f78c2665356f64": {
      "model_module": "@jupyter-widgets/base",
      "model_module_version": "1.2.0",
      "model_name": "LayoutModel",
      "state": {}
     },
     "2f5b21e9dfd64377a1a7c4fa3d7dc3be": {
      "model_module": "@jupyter-widgets/controls",
      "model_module_version": "1.5.0",
      "model_name": "HTMLModel",
      "state": {
       "layout": "IPY_MODEL_605853231a4e44dbbca6b9f0c39cf7c1",
       "style": "IPY_MODEL_87ed2d2518d64107b69d8a28dcc9558e",
       "value": "<b>Right upper corner:</b>"
      }
     },
     "3183c47ced7f4a1f8dcbbd747a3f16d6": {
      "model_module": "@jupyter-widgets/base",
      "model_module_version": "1.2.0",
      "model_name": "LayoutModel",
      "state": {}
     },
     "31c5c79db4eb4bf0aa19a9527a6c9a21": {
      "model_module": "@jupyter-widgets/controls",
      "model_module_version": "1.5.0",
      "model_name": "ButtonStyleModel",
      "state": {}
     },
     "344880827b92417099fd282377fdf0a4": {
      "model_module": "@jupyter-widgets/controls",
      "model_module_version": "1.5.0",
      "model_name": "FloatSliderModel",
      "state": {
       "description": "Re",
       "layout": "IPY_MODEL_19167230ba1e4211b33d1aa2be72c3fb",
       "max": 20,
       "min": -20,
       "readout": false,
       "style": "IPY_MODEL_f904ec530ecb4760a67097d57055ebdc",
       "value": -2
      }
     },
     "3a0bf1dac4f244a6a4a9e05fa382c214": {
      "model_module": "@jupyter-widgets/base",
      "model_module_version": "1.2.0",
      "model_name": "LayoutModel",
      "state": {}
     },
     "3bec63d1fa664692aa777e7087618c15": {
      "model_module": "@jupyter-widgets/controls",
      "model_module_version": "1.5.0",
      "model_name": "VBoxModel",
      "state": {
       "children": [
        "IPY_MODEL_a1d35c568ae94b89a71efe9708b2e7cb",
        "IPY_MODEL_a1e18289d2714583b34fff6e3f5e2c82"
       ],
       "layout": "IPY_MODEL_ee81f8adf651418c85f3ef21b7d77294"
      }
     },
     "3c4e27cff566413891221d581d7196c5": {
      "model_module": "@jupyter-widgets/base",
      "model_module_version": "1.2.0",
      "model_name": "LayoutModel",
      "state": {
       "padding": "0px 0px 0px 25px"
      }
     },
     "4c683dc0a1bb48138ac75f41f0402290": {
      "model_module": "@jupyter-widgets/controls",
      "model_module_version": "1.5.0",
      "model_name": "HBoxModel",
      "state": {
       "children": [
        "IPY_MODEL_080515abf738425491cc330b77fa141c",
        "IPY_MODEL_a0d263fd17f24757a4db2f8b801701e8"
       ],
       "layout": "IPY_MODEL_aca99ed675e84cb8beb2290ba236c20d"
      }
     },
     "4c7eedf1d6bc4b24aaeca1189ff96cfb": {
      "model_module": "@jupyter-widgets/base",
      "model_module_version": "1.2.0",
      "model_name": "LayoutModel",
      "state": {
       "align_self": "center",
       "margin": "0px 0px 10px 0px",
       "object_position": "bottom",
       "padding": "0px 0px 0px 0px",
       "width": "90%"
      }
     },
     "4e80ad98c19143b28b332d18e9dc6c56": {
      "model_module": "@jupyter-widgets/controls",
      "model_module_version": "1.5.0",
      "model_name": "IntSliderModel",
      "state": {
       "layout": "IPY_MODEL_2321045ea9dd45d4a9c8ee63896f0738",
       "max": 500,
       "min": 1,
       "style": "IPY_MODEL_be1a818b8db341559d5f29c4f08963c7",
       "value": 50
      }
     },
     "52c1524f35a04283b38544d44f2ce3d4": {
      "model_module": "@jupyter-widgets/base",
      "model_module_version": "1.2.0",
      "model_name": "LayoutModel",
      "state": {}
     },
     "5dbe118c49484a15b24ebb3b7c7c4661": {
      "model_module": "@jupyter-widgets/controls",
      "model_module_version": "1.5.0",
      "model_name": "ButtonModel",
      "state": {
       "description": "Compute the phase portrait",
       "layout": "IPY_MODEL_fc2ebf1b9d1e45eabd72ee0de9ee8d52",
       "style": "IPY_MODEL_0324379239804b93949a3b94898a5f07"
      }
     },
     "605853231a4e44dbbca6b9f0c39cf7c1": {
      "model_module": "@jupyter-widgets/base",
      "model_module_version": "1.2.0",
      "model_name": "LayoutModel",
      "state": {}
     },
     "6aa2011ae4b64be7a3220a39fb0102ea": {
      "model_module": "@jupyter-widgets/controls",
      "model_module_version": "1.5.0",
      "model_name": "VBoxModel",
      "state": {
       "children": [
        "IPY_MODEL_3bec63d1fa664692aa777e7087618c15",
        "IPY_MODEL_f45b0fa4eec0472ba6ab3d0a20ede1da",
        "IPY_MODEL_aa8e5194420e4c0ba6685dd23cdc4e97",
        "IPY_MODEL_80e54a849e364dfe8e993e55e50a51cc",
        "IPY_MODEL_7c923b1838204e41892f48e571c882ca"
       ],
       "layout": "IPY_MODEL_ed1289794dfc476e92e284815cf32307"
      }
     },
     "70ae747ef4c740e5ad9ab758d80ed915": {
      "model_module": "@jupyter-widgets/controls",
      "model_module_version": "1.5.0",
      "model_name": "HTMLModel",
      "state": {
       "layout": "IPY_MODEL_3183c47ced7f4a1f8dcbbd747a3f16d6",
       "style": "IPY_MODEL_eabc93a5161945a5aa0c0beaf685f1c7",
       "value": "<b>Number of pixels per unit:</b>"
      }
     },
     "784f0ee0aaf04fc7bfd7c8a8d65d5cc5": {
      "buffers": [
       {
        "data": "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",
        "encoding": "base64",
        "path": [
         "value"
        ]
       }
      ],
      "model_module": "@jupyter-widgets/controls",
      "model_module_version": "1.5.0",
      "model_name": "ImageModel",
      "state": {
       "layout": "IPY_MODEL_f0e5406447994792bdf85ddeb8bfaab8"
      }
     },
     "7c923b1838204e41892f48e571c882ca": {
      "model_module": "@jupyter-widgets/output",
      "model_module_version": "1.0.0",
      "model_name": "OutputModel",
      "state": {
       "layout": "IPY_MODEL_dae725ca5fea40148b7052643de99811"
      }
     },
     "7d64b2fa8786469f89544d42cff2f3b0": {
      "model_module": "@jupyter-widgets/controls",
      "model_module_version": "1.5.0",
      "model_name": "FloatSliderModel",
      "state": {
       "description": "Im",
       "layout": "IPY_MODEL_f120bcba609f451ba98982e9245ef978",
       "max": 20,
       "min": -20,
       "readout": false,
       "style": "IPY_MODEL_a0aecbbf458746d3bcc38de28bceb99b",
       "value": 2
      }
     },
     "7dbdfe4c58e2488bb4c046039b92551c": {
      "model_module": "@jupyter-widgets/base",
      "model_module_version": "1.2.0",
      "model_name": "LayoutModel",
      "state": {}
     },
     "809ad67a7e9349d1b50339d11b8a3a6c": {
      "model_module": "@jupyter-widgets/controls",
      "model_module_version": "1.5.0",
      "model_name": "VBoxModel",
      "state": {
       "children": [
        "IPY_MODEL_784f0ee0aaf04fc7bfd7c8a8d65d5cc5",
        "IPY_MODEL_edc667769058412290c39fd67093aea4"
       ],
       "layout": "IPY_MODEL_2ba7187cf5a843cfafe372af1644ee3f"
      }
     },
     "80e54a849e364dfe8e993e55e50a51cc": {
      "model_module": "@jupyter-widgets/controls",
      "model_module_version": "1.5.0",
      "model_name": "CheckboxModel",
      "state": {
       "description": "Information about computation duration",
       "disabled": false,
       "layout": "IPY_MODEL_2d19ea63578b413f9b7639e09ea0752b",
       "style": "IPY_MODEL_8aaa6b262c2d42a3b7dee45acf45cbfe",
       "value": false
      }
     },
     "87ed2d2518d64107b69d8a28dcc9558e": {
      "model_module": "@jupyter-widgets/controls",
      "model_module_version": "1.5.0",
      "model_name": "DescriptionStyleModel",
      "state": {
       "description_width": ""
      }
     },
     "8aaa6b262c2d42a3b7dee45acf45cbfe": {
      "model_module": "@jupyter-widgets/controls",
      "model_module_version": "1.5.0",
      "model_name": "DescriptionStyleModel",
      "state": {
       "description_width": "initial"
      }
     },
     "937bd2f7df164e0a9c6fa461722b7ccf": {
      "model_module": "@jupyter-widgets/base",
      "model_module_version": "1.2.0",
      "model_name": "LayoutModel",
      "state": {
       "border": "solid 1px black",
       "height": "80px",
       "margin": "1px 1px 1px 1px",
       "padding": "0px 0px 0px 0px",
       "width": "33.3%"
      }
     },
     "95392512af3c4afea1667f64b385ccd3": {
      "model_module": "@jupyter-widgets/base",
      "model_module_version": "1.2.0",
      "model_name": "LayoutModel",
      "state": {
       "margin": "0px 0px 0px 0px",
       "padding": "0px 0px 0px 0px"
      }
     },
     "9d232db7f1e344318a2ea7c1ad291387": {
      "model_module": "@jupyter-widgets/controls",
      "model_module_version": "1.5.0",
      "model_name": "DescriptionStyleModel",
      "state": {
       "description_width": ""
      }
     },
     "a0aecbbf458746d3bcc38de28bceb99b": {
      "model_module": "@jupyter-widgets/controls",
      "model_module_version": "1.5.0",
      "model_name": "SliderStyleModel",
      "state": {
       "description_width": "initial"
      }
     },
     "a0d263fd17f24757a4db2f8b801701e8": {
      "model_module": "@jupyter-widgets/controls",
      "model_module_version": "1.5.0",
      "model_name": "LabelModel",
      "state": {
       "layout": "IPY_MODEL_1cbc32dfcc5047a79ea297c6039fd0c1",
       "style": "IPY_MODEL_c639a743419749a4bb68867a1313961f",
       "value": "2 + 2 i"
      }
     },
     "a1d35c568ae94b89a71efe9708b2e7cb": {
      "model_module": "@jupyter-widgets/controls",
      "model_module_version": "1.5.0",
      "model_name": "HTMLModel",
      "state": {
       "layout": "IPY_MODEL_dd32d159f9614fbfafba6c71b81ec189",
       "style": "IPY_MODEL_9d232db7f1e344318a2ea7c1ad291387",
       "value": "<b>Left lower corner:</b>"
      }
     },
     "a1e18289d2714583b34fff6e3f5e2c82": {
      "model_module": "@jupyter-widgets/controls",
      "model_module_version": "1.5.0",
      "model_name": "HBoxModel",
      "state": {
       "children": [
        "IPY_MODEL_061e124821004568bef54eb872aaf676",
        "IPY_MODEL_bc18b21b37a9472eb11c85402e02b9d5"
       ],
       "layout": "IPY_MODEL_3c4e27cff566413891221d581d7196c5"
      }
     },
     "a3b9c053ff054e13b19e720766095e4a": {
      "model_module": "@jupyter-widgets/base",
      "model_module_version": "1.2.0",
      "model_name": "LayoutModel",
      "state": {}
     },
     "aa8e5194420e4c0ba6685dd23cdc4e97": {
      "model_module": "@jupyter-widgets/controls",
      "model_module_version": "1.5.0",
      "model_name": "VBoxModel",
      "state": {
       "children": [
        "IPY_MODEL_70ae747ef4c740e5ad9ab758d80ed915",
        "IPY_MODEL_4e80ad98c19143b28b332d18e9dc6c56"
       ],
       "layout": "IPY_MODEL_3a0bf1dac4f244a6a4a9e05fa382c214"
      }
     },
     "aca99ed675e84cb8beb2290ba236c20d": {
      "model_module": "@jupyter-widgets/base",
      "model_module_version": "1.2.0",
      "model_name": "LayoutModel",
      "state": {
       "padding": "0px 0px 0px 25px"
      }
     },
     "ae5caa946c014a7bb50b05bcc795c707": {
      "model_module": "@jupyter-widgets/controls",
      "model_module_version": "1.5.0",
      "model_name": "SliderStyleModel",
      "state": {
       "description_width": "initial"
      }
     },
     "b1628a5772ed40de9ed3c1938bc490e2": {
      "model_module": "@jupyter-widgets/controls",
      "model_module_version": "1.5.0",
      "model_name": "HBoxModel",
      "state": {
       "children": [
        "IPY_MODEL_6aa2011ae4b64be7a3220a39fb0102ea",
        "IPY_MODEL_809ad67a7e9349d1b50339d11b8a3a6c"
       ],
       "layout": "IPY_MODEL_a3b9c053ff054e13b19e720766095e4a"
      }
     },
     "bc18b21b37a9472eb11c85402e02b9d5": {
      "model_module": "@jupyter-widgets/controls",
      "model_module_version": "1.5.0",
      "model_name": "LabelModel",
      "state": {
       "layout": "IPY_MODEL_07c9a1ce06924ee3b3da7628d650ea98",
       "style": "IPY_MODEL_d10a41bf561e4ac0b132e4b0143326d1",
       "value": "-2 - 2 i"
      }
     },
     "bcd2aafe11874df9a7d9787bbfb60507": {
      "model_module": "@jupyter-widgets/base",
      "model_module_version": "1.2.0",
      "model_name": "LayoutModel",
      "state": {
       "padding": "0px 0px 0px 5px",
       "width": "150px"
      }
     },
     "be1a818b8db341559d5f29c4f08963c7": {
      "model_module": "@jupyter-widgets/controls",
      "model_module_version": "1.5.0",
      "model_name": "SliderStyleModel",
      "state": {
       "description_width": ""
      }
     },
     "c3463428bb6042ebbae5cf91a0ae58d6": {
      "model_module": "@jupyter-widgets/controls",
      "model_module_version": "1.5.0",
      "model_name": "ButtonStyleModel",
      "state": {}
     },
     "c4100e23c4444bb68ddf64db974f1b45": {
      "model_module": "@jupyter-widgets/base",
      "model_module_version": "1.2.0",
      "model_name": "LayoutModel",
      "state": {}
     },
     "c4ed5f773d3646049c011b941c903b35": {
      "model_module": "@jupyter-widgets/base",
      "model_module_version": "1.2.0",
      "model_name": "LayoutModel",
      "state": {
       "border": "solid 1px black",
       "height": "80px",
       "margin": "1px 1px 1px 1px",
       "padding": "0px 0px 0px 0px",
       "width": "33.3%"
      }
     },
     "c639a743419749a4bb68867a1313961f": {
      "model_module": "@jupyter-widgets/controls",
      "model_module_version": "1.5.0",
      "model_name": "DescriptionStyleModel",
      "state": {
       "description_width": ""
      }
     },
     "ca8552e6dde64fb0809d3964fa5c511c": {
      "model_module": "@jupyter-widgets/controls",
      "model_module_version": "1.5.0",
      "model_name": "ButtonModel",
      "state": {
       "description": "Save the phase portrait",
       "layout": "IPY_MODEL_937bd2f7df164e0a9c6fa461722b7ccf",
       "style": "IPY_MODEL_31c5c79db4eb4bf0aa19a9527a6c9a21"
      }
     },
     "d10a41bf561e4ac0b132e4b0143326d1": {
      "model_module": "@jupyter-widgets/controls",
      "model_module_version": "1.5.0",
      "model_name": "DescriptionStyleModel",
      "state": {
       "description_width": ""
      }
     },
     "d1f822c70c6c4625b9c4541c62678c0d": {
      "model_module": "@jupyter-widgets/controls",
      "model_module_version": "1.5.0",
      "model_name": "FloatSliderModel",
      "state": {
       "description": "Im",
       "layout": "IPY_MODEL_f191a97611b449159b5795ba99b4c874",
       "max": 20,
       "min": -20,
       "readout": false,
       "style": "IPY_MODEL_ae5caa946c014a7bb50b05bcc795c707",
       "value": -2
      }
     },
     "dae725ca5fea40148b7052643de99811": {
      "model_module": "@jupyter-widgets/base",
      "model_module_version": "1.2.0",
      "model_name": "LayoutModel",
      "state": {
       "width": "300px"
      }
     },
     "dd32d159f9614fbfafba6c71b81ec189": {
      "model_module": "@jupyter-widgets/base",
      "model_module_version": "1.2.0",
      "model_name": "LayoutModel",
      "state": {}
     },
     "e3681ab87ff24ea8b83df5288eed56e9": {
      "model_module": "@jupyter-widgets/controls",
      "model_module_version": "1.5.0",
      "model_name": "FloatSliderModel",
      "state": {
       "description": "Re",
       "layout": "IPY_MODEL_bcd2aafe11874df9a7d9787bbfb60507",
       "max": 20,
       "min": -20,
       "readout": false,
       "style": "IPY_MODEL_172bd97104b04775878ca593dc0e1517",
       "value": 2
      }
     },
     "e3a5e038a307471d98990fed3e532ae1": {
      "model_module": "@jupyter-widgets/base",
      "model_module_version": "1.2.0",
      "model_name": "LayoutModel",
      "state": {}
     },
     "eabc93a5161945a5aa0c0beaf685f1c7": {
      "model_module": "@jupyter-widgets/controls",
      "model_module_version": "1.5.0",
      "model_name": "DescriptionStyleModel",
      "state": {
       "description_width": ""
      }
     },
     "ed1289794dfc476e92e284815cf32307": {
      "model_module": "@jupyter-widgets/base",
      "model_module_version": "1.2.0",
      "model_name": "LayoutModel",
      "state": {
       "border": "solid 1px black",
       "margin": "0px 0px 0px 0px",
       "padding": "0px 0px 0px 5px",
       "width": "33%"
      }
     },
     "edc667769058412290c39fd67093aea4": {
      "model_module": "@jupyter-widgets/controls",
      "model_module_version": "1.5.0",
      "model_name": "HBoxModel",
      "state": {
       "children": [
        "IPY_MODEL_5dbe118c49484a15b24ebb3b7c7c4661",
        "IPY_MODEL_12d0adabb6db4450b5af4682ae8ddc8f",
        "IPY_MODEL_ca8552e6dde64fb0809d3964fa5c511c"
       ],
       "layout": "IPY_MODEL_4c7eedf1d6bc4b24aaeca1189ff96cfb"
      }
     },
     "ee81f8adf651418c85f3ef21b7d77294": {
      "model_module": "@jupyter-widgets/base",
      "model_module_version": "1.2.0",
      "model_name": "LayoutModel",
      "state": {
       "margin": "0px 0px 0px 0px",
       "padding": "0px 0px 0px 0px"
      }
     },
     "f0e5406447994792bdf85ddeb8bfaab8": {
      "model_module": "@jupyter-widgets/base",
      "model_module_version": "1.2.0",
      "model_name": "LayoutModel",
      "state": {
       "object_position": "center"
      }
     },
     "f120bcba609f451ba98982e9245ef978": {
      "model_module": "@jupyter-widgets/base",
      "model_module_version": "1.2.0",
      "model_name": "LayoutModel",
      "state": {
       "padding": "0px 0px 0px 5px",
       "width": "150px"
      }
     },
     "f191a97611b449159b5795ba99b4c874": {
      "model_module": "@jupyter-widgets/base",
      "model_module_version": "1.2.0",
      "model_name": "LayoutModel",
      "state": {
       "padding": "0px 0px 0px 5px",
       "width": "150px"
      }
     },
     "f45b0fa4eec0472ba6ab3d0a20ede1da": {
      "model_module": "@jupyter-widgets/controls",
      "model_module_version": "1.5.0",
      "model_name": "VBoxModel",
      "state": {
       "children": [
        "IPY_MODEL_2f5b21e9dfd64377a1a7c4fa3d7dc3be",
        "IPY_MODEL_4c683dc0a1bb48138ac75f41f0402290"
       ],
       "layout": "IPY_MODEL_95392512af3c4afea1667f64b385ccd3"
      }
     },
     "f904ec530ecb4760a67097d57055ebdc": {
      "model_module": "@jupyter-widgets/controls",
      "model_module_version": "1.5.0",
      "model_name": "SliderStyleModel",
      "state": {
       "description_width": "initial"
      }
     },
     "fc2ebf1b9d1e45eabd72ee0de9ee8d52": {
      "model_module": "@jupyter-widgets/base",
      "model_module_version": "1.2.0",
      "model_name": "LayoutModel",
      "state": {
       "border": "solid 1px black",
       "height": "80px",
       "margin": "1px 1px 1px 1px",
       "padding": "0px 0px 0px 0px",
       "width": "33.3%"
      }
     }
    },
    "version_major": 2,
    "version_minor": 0
   }
  }
 },
 "nbformat": 4,
 "nbformat_minor": 4
}
